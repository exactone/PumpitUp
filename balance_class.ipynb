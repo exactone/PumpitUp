{
 "cells": [
  {
   "cell_type": "code",
   "execution_count": 97,
   "metadata": {
    "collapsed": false
   },
   "outputs": [],
   "source": [
    "import pandas as pd\n",
    "import numpy as np\n",
    "from sklearn.utils import shuffle\n",
    "\n",
    "drop_feature=['quantity_group',        # identical as 'quantity'\n",
    "              'source_type',           # 1-to-1 subset of 'source'\n",
    "              'source_class',          # 1-to-1 subset of 'source_class'\n",
    "              'waterpoint_type_group', # 1-to-1 subset of 'waterpoint_type'\n",
    "              'quality_group',         # 1-to-1 subset of 'water_quality'\n",
    "              'payment_type',          # 1-to-1 subset of 'payment'\n",
    "              'management_group',      # 1-to-1 subset of 'management'\n",
    "              'extraction_type_group', # 1-to-1 subset of 'extraction_type'\n",
    "              'extraction_type_class'  # 1-to-1 subset of 'extraction_type'\n",
    "             ]\n",
    "def balance_class(traincsv, label_name, drop_list=None, balance_rate=None, labelcsv=None):\n",
    "    \"\"\"\n",
    "    traincsv: \n",
    "        type: str\n",
    "        train csv file name\n",
    "    label_name: \n",
    "        type: str\n",
    "        column name of label in label csv or train csv\n",
    "    drop_list: \n",
    "        type: list\n",
    "        a list of column names which will be dropped out\n",
    "    balance_rate:\n",
    "        type: float\n",
    "        smaller classes will increase to balance_rate * number of biggest class\n",
    "        ie, 250 data are class1, 100 data are class2, if balance_rate = 0.6\n",
    "        class2 will increase to 150( = 250*0.6)\n",
    "    labelcsv:\n",
    "        type: str\n",
    "        label csv file name\n",
    "    \"\"\"\n",
    "    \n",
    "    train = pd.DataFrame.from_csv(traincsv, index_col = None)\n",
    "    if labelcsv is not None:\n",
    "        label = pd.DataFrame.from_csv(labelcsv, index_col = None)\n",
    "        train[label_name] = label[label_name]\n",
    "        \n",
    "    class_count = dict()\n",
    "    class_count_max = 0\n",
    "   \n",
    "    for c in train[label_name].unique():\n",
    "        class_count[c] = train[train[label_name] == c].shape[0]\n",
    "        if class_count[c] > class_count_max:\n",
    "            class_count_max = class_count[c]\n",
    "    \n",
    "    \n",
    "    aug_list = list()\n",
    "    for c in class_count:\n",
    "        aug_temp = train[train[label_name] == c]\n",
    "        aug_num = int(class_count_max*balance_rate) - aug_temp.shape[0]\n",
    "        if aug_num > 0:\n",
    "            aug_temp = aug_temp.sample(n=aug_num, replace = True).copy()\n",
    "            aug_list.append(aug_temp)\n",
    "    \n",
    "    \n",
    "    train_aug = pd.concat(aug_list)\n",
    "    train_aug_shuf = shuffle(train_aug)\n",
    "    trainout = pd.concat([train, train_aug_shuf])\n",
    "\n",
    "    trainout.drop(drop_list, axis=1, inplace = True)\n",
    "    \n",
    "    labelout = pd.DataFrame(trainout[label_name])\n",
    "    if labelcsv is not None:\n",
    "        trainout.drop([label_name], axis=1, inplace = True)\n",
    "        labelout.to_csv(labelcsv.split('.csv')[0] + '_out.csv', index=False, header = list(labelout.columns))\n",
    "    \n",
    "    \n",
    "    trainout.to_csv(traincsv.split('.csv')[0] + '_out.csv', index=False, header = list(trainout.columns))"
   ]
  },
  {
   "cell_type": "code",
   "execution_count": 98,
   "metadata": {
    "collapsed": false
   },
   "outputs": [],
   "source": [
    "# example:\n",
    "balance_class(traincsv = \"train.csv\", label_name = \"status_group\",drop_list = drop_feature, \n",
    "                       balance_rate = 0.8, labelcsv = \"label.csv\")\n",
    "\n",
    "ddd = pd.DataFrame.from_csv(\"train_out.csv\", index_col=None)\n",
    "kkk = pd.DataFrame.from_csv(\"label_out.csv\", index_col=None)"
   ]
  }
 ],
 "metadata": {
  "kernelspec": {
   "display_name": "Python 3",
   "language": "python",
   "name": "python3"
  },
  "language_info": {
   "codemirror_mode": {
    "name": "ipython",
    "version": 3
   },
   "file_extension": ".py",
   "mimetype": "text/x-python",
   "name": "python",
   "nbconvert_exporter": "python",
   "pygments_lexer": "ipython3",
   "version": "3.5.2"
  }
 },
 "nbformat": 4,
 "nbformat_minor": 2
}
